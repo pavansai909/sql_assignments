{
 "cells": [
  {
   "cell_type": "code",
   "execution_count": 4,
   "id": "a958d801",
   "metadata": {},
   "outputs": [
    {
     "name": "stdout",
     "output_type": "stream",
     "text": [
      "Requirement already satisfied: mysql-connector-python in c:\\users\\marchettypavansai\\anaconda3\\lib\\site-packages (8.0.28)\n",
      "Requirement already satisfied: protobuf>=3.0.0 in c:\\users\\marchettypavansai\\anaconda3\\lib\\site-packages (from mysql-connector-python) (3.19.4)\n"
     ]
    }
   ],
   "source": [
    "!pip install mysql-connector-python"
   ]
  },
  {
   "cell_type": "code",
   "execution_count": 18,
   "id": "01783e20",
   "metadata": {},
   "outputs": [],
   "source": [
    "import mysql.connector as conn"
   ]
  },
  {
   "cell_type": "code",
   "execution_count": 19,
   "id": "69dd1f11",
   "metadata": {},
   "outputs": [],
   "source": [
    "mydb = conn.connect(host = 'localhost',user ='root',passwd = 'Root@909')"
   ]
  },
  {
   "cell_type": "code",
   "execution_count": 20,
   "id": "339f1640",
   "metadata": {},
   "outputs": [
    {
     "data": {
      "text/plain": [
       "<mysql.connector.connection_cext.CMySQLConnection at 0x165f490fd90>"
      ]
     },
     "execution_count": 20,
     "metadata": {},
     "output_type": "execute_result"
    }
   ],
   "source": [
    "mydb"
   ]
  },
  {
   "cell_type": "code",
   "execution_count": 21,
   "id": "6e8e8484",
   "metadata": {},
   "outputs": [],
   "source": [
    "cursor = mydb.cursor()"
   ]
  },
  {
   "cell_type": "code",
   "execution_count": 22,
   "id": "e6dbac62",
   "metadata": {},
   "outputs": [],
   "source": [
    "cursor.execute('show databases')"
   ]
  },
  {
   "cell_type": "code",
   "execution_count": 23,
   "id": "fe97e738",
   "metadata": {},
   "outputs": [
    {
     "data": {
      "text/plain": [
       "[('information_schema',),\n",
       " ('mysql',),\n",
       " ('org',),\n",
       " ('performance_schema',),\n",
       " ('sakila',),\n",
       " ('sql_hr',),\n",
       " ('sql_inventory',),\n",
       " ('sql_invoicing',),\n",
       " ('sql_store',),\n",
       " ('store',),\n",
       " ('sys',),\n",
       " ('world',)]"
      ]
     },
     "execution_count": 23,
     "metadata": {},
     "output_type": "execute_result"
    }
   ],
   "source": [
    "cursor.fetchall()"
   ]
  },
  {
   "cell_type": "code",
   "execution_count": 24,
   "id": "36c40b1f",
   "metadata": {},
   "outputs": [],
   "source": [
    "cursor.execute('use org')"
   ]
  },
  {
   "cell_type": "code",
   "execution_count": 25,
   "id": "426133a3",
   "metadata": {},
   "outputs": [],
   "source": [
    "cursor.execute('show tables')"
   ]
  },
  {
   "cell_type": "code",
   "execution_count": 26,
   "id": "a88619d8",
   "metadata": {},
   "outputs": [
    {
     "data": {
      "text/plain": [
       "[('bonus',), ('title',), ('worker',)]"
      ]
     },
     "execution_count": 26,
     "metadata": {},
     "output_type": "execute_result"
    }
   ],
   "source": [
    "cursor.fetchall()"
   ]
  },
  {
   "cell_type": "markdown",
   "id": "51f6b9da",
   "metadata": {},
   "source": [
    "## Q-1. Write an SQL query to print the first three characters of  FIRST_NAME from Worker table."
   ]
  },
  {
   "cell_type": "code",
   "execution_count": 27,
   "id": "e01b6411",
   "metadata": {},
   "outputs": [],
   "source": [
    "cursor.execute('Select substring(FIRST_NAME,1,3) from Worker')"
   ]
  },
  {
   "cell_type": "code",
   "execution_count": 28,
   "id": "c7e0758d",
   "metadata": {},
   "outputs": [
    {
     "data": {
      "text/plain": [
       "[('Mon',),\n",
       " ('Nih',),\n",
       " ('Vis',),\n",
       " ('Ami',),\n",
       " ('Viv',),\n",
       " ('Vip',),\n",
       " ('Sat',),\n",
       " ('Gee',)]"
      ]
     },
     "execution_count": 28,
     "metadata": {},
     "output_type": "execute_result"
    }
   ],
   "source": [
    "cursor.fetchall()"
   ]
  },
  {
   "cell_type": "markdown",
   "id": "84d751a5",
   "metadata": {},
   "source": [
    "## Q-2. Write an SQL query to find the position of the alphabet (‘a’) in the first name column ‘Amitabh’ from Worker table."
   ]
  },
  {
   "cell_type": "code",
   "execution_count": 45,
   "id": "a6c26704",
   "metadata": {},
   "outputs": [],
   "source": [
    "cursor.execute(\"Select INSTR(FIRST_NAME, BINARY'a') from Worker where FIRST_NAME = 'Amitabh'\")\n",
    "#The INSTR method is in case-sensitive by default.\n",
    "#Using Binary operator will make INSTR work as the case-sensitive function"
   ]
  },
  {
   "cell_type": "code",
   "execution_count": 46,
   "id": "03b44aeb",
   "metadata": {},
   "outputs": [
    {
     "data": {
      "text/plain": [
       "[(1,)]"
      ]
     },
     "execution_count": 46,
     "metadata": {},
     "output_type": "execute_result"
    }
   ],
   "source": [
    "cursor.fetchall()"
   ]
  },
  {
   "cell_type": "markdown",
   "id": "669da3ea",
   "metadata": {},
   "source": [
    "## Q-3. Write an SQL query to print the name of employees having the highest salary in each department."
   ]
  },
  {
   "cell_type": "code",
   "execution_count": 47,
   "id": "01a7fd49",
   "metadata": {},
   "outputs": [],
   "source": [
    "cursor.execute('SELECT worker.Department,concat(worker.FIRST_NAME,\" \", worker.LAST_NAME) as Name,worker.Salary FROM (SELECT max(Salary) as TotalSalary,DEPARTMENT from Worker group by DEPARTMENT) as high Inner Join Worker on high.DEPARTMENT=worker.DEPARTMENT  and high.TotalSalary=worker.Salary')\n"
   ]
  },
  {
   "cell_type": "code",
   "execution_count": 48,
   "id": "e779ec12",
   "metadata": {
    "scrolled": false
   },
   "outputs": [
    {
     "data": {
      "text/plain": [
       "[('HR', 'Vishal Singhal', 300000),\n",
       " ('Admin', 'Amitabh Singh', 500000),\n",
       " ('Admin', 'Vivek Bhati', 500000),\n",
       " ('Account', 'Vipul Diwan', 200000)]"
      ]
     },
     "execution_count": 48,
     "metadata": {},
     "output_type": "execute_result"
    }
   ],
   "source": [
    "cursor.fetchall()"
   ]
  },
  {
   "cell_type": "code",
   "execution_count": null,
   "id": "6d15fd8e",
   "metadata": {},
   "outputs": [],
   "source": []
  }
 ],
 "metadata": {
  "kernelspec": {
   "display_name": "Python 3 (ipykernel)",
   "language": "python",
   "name": "python3"
  },
  "language_info": {
   "codemirror_mode": {
    "name": "ipython",
    "version": 3
   },
   "file_extension": ".py",
   "mimetype": "text/x-python",
   "name": "python",
   "nbconvert_exporter": "python",
   "pygments_lexer": "ipython3",
   "version": "3.9.7"
  }
 },
 "nbformat": 4,
 "nbformat_minor": 5
}
