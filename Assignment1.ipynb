{
 "cells": [
  {
   "cell_type": "code",
   "execution_count": 1,
   "id": "a958d801",
   "metadata": {},
   "outputs": [
    {
     "name": "stdout",
     "output_type": "stream",
     "text": [
      "Requirement already satisfied: mysql-connector-python in c:\\users\\marchettypavansai\\anaconda3\\lib\\site-packages (8.0.28)\n",
      "Requirement already satisfied: protobuf>=3.0.0 in c:\\users\\marchettypavansai\\anaconda3\\lib\\site-packages (from mysql-connector-python) (3.19.4)\n"
     ]
    }
   ],
   "source": [
    "!pip install mysql-connector-python"
   ]
  },
  {
   "cell_type": "code",
   "execution_count": 2,
   "id": "01783e20",
   "metadata": {},
   "outputs": [],
   "source": [
    "import mysql.connector as conn"
   ]
  },
  {
   "cell_type": "code",
   "execution_count": 5,
   "id": "69dd1f11",
   "metadata": {},
   "outputs": [],
   "source": [
    "mydb = conn.connect(host = 'localhost',user ='root',passwd = 'Root@909')"
   ]
  },
  {
   "cell_type": "code",
   "execution_count": 6,
   "id": "339f1640",
   "metadata": {},
   "outputs": [
    {
     "data": {
      "text/plain": [
       "<mysql.connector.connection_cext.CMySQLConnection at 0x1a446a288e0>"
      ]
     },
     "execution_count": 6,
     "metadata": {},
     "output_type": "execute_result"
    }
   ],
   "source": [
    "mydb"
   ]
  },
  {
   "cell_type": "code",
   "execution_count": 7,
   "id": "6e8e8484",
   "metadata": {},
   "outputs": [],
   "source": [
    "cursor = mydb.cursor()"
   ]
  },
  {
   "cell_type": "code",
   "execution_count": 8,
   "id": "e6dbac62",
   "metadata": {},
   "outputs": [],
   "source": [
    "cursor.execute('show databases')"
   ]
  },
  {
   "cell_type": "code",
   "execution_count": 9,
   "id": "fe97e738",
   "metadata": {},
   "outputs": [
    {
     "data": {
      "text/plain": [
       "[('information_schema',),\n",
       " ('mysql',),\n",
       " ('org',),\n",
       " ('performance_schema',),\n",
       " ('sakila',),\n",
       " ('sql_hr',),\n",
       " ('sql_inventory',),\n",
       " ('sql_invoicing',),\n",
       " ('sql_store',),\n",
       " ('store',),\n",
       " ('sys',),\n",
       " ('world',)]"
      ]
     },
     "execution_count": 9,
     "metadata": {},
     "output_type": "execute_result"
    }
   ],
   "source": [
    "cursor.fetchall()"
   ]
  },
  {
   "cell_type": "code",
   "execution_count": 10,
   "id": "36c40b1f",
   "metadata": {},
   "outputs": [],
   "source": [
    "cursor.execute('use org')"
   ]
  },
  {
   "cell_type": "code",
   "execution_count": 11,
   "id": "426133a3",
   "metadata": {},
   "outputs": [],
   "source": [
    "cursor.execute('show tables')"
   ]
  },
  {
   "cell_type": "code",
   "execution_count": 12,
   "id": "a88619d8",
   "metadata": {},
   "outputs": [
    {
     "data": {
      "text/plain": [
       "[('bonus',), ('title',), ('worker',)]"
      ]
     },
     "execution_count": 12,
     "metadata": {},
     "output_type": "execute_result"
    }
   ],
   "source": [
    "cursor.fetchall()"
   ]
  },
  {
   "cell_type": "markdown",
   "id": "51f6b9da",
   "metadata": {},
   "source": [
    "## Q-1. Write an SQL query to fetch “FIRST_NAME” from Worker table using the alias name as &lt;WORKER_NAME&gt;."
   ]
  },
  {
   "cell_type": "code",
   "execution_count": 14,
   "id": "e01b6411",
   "metadata": {},
   "outputs": [],
   "source": [
    "cursor.execute('select FIRST_NAME as WORKER_NAME from worker')"
   ]
  },
  {
   "cell_type": "code",
   "execution_count": 15,
   "id": "c7e0758d",
   "metadata": {},
   "outputs": [
    {
     "data": {
      "text/plain": [
       "[('Monika',),\n",
       " ('Niharika',),\n",
       " ('Vishal',),\n",
       " ('Amitabh',),\n",
       " ('Vivek',),\n",
       " ('Vipul',),\n",
       " ('Satish',),\n",
       " ('Geetika',)]"
      ]
     },
     "execution_count": 15,
     "metadata": {},
     "output_type": "execute_result"
    }
   ],
   "source": [
    "cursor.fetchall()"
   ]
  },
  {
   "cell_type": "markdown",
   "id": "84d751a5",
   "metadata": {},
   "source": [
    "## Q-2. Write an SQL query to fetch unique values of DEPARTMENT from Worker table."
   ]
  },
  {
   "cell_type": "code",
   "execution_count": 16,
   "id": "a6c26704",
   "metadata": {},
   "outputs": [],
   "source": [
    "cursor.execute('select DISTINCT Department from worker')"
   ]
  },
  {
   "cell_type": "code",
   "execution_count": 17,
   "id": "03b44aeb",
   "metadata": {},
   "outputs": [
    {
     "data": {
      "text/plain": [
       "[('HR',), ('Admin',), ('Account',)]"
      ]
     },
     "execution_count": 17,
     "metadata": {},
     "output_type": "execute_result"
    }
   ],
   "source": [
    "cursor.fetchall()"
   ]
  },
  {
   "cell_type": "markdown",
   "id": "669da3ea",
   "metadata": {},
   "source": [
    "## Q-3. Write an SQL query to show the last 5 record from a table"
   ]
  },
  {
   "cell_type": "code",
   "execution_count": 27,
   "id": "01a7fd49",
   "metadata": {},
   "outputs": [],
   "source": [
    "cursor.execute('(select * from worker order by WORKER_ID desc limit 5) order by worker_id asc')"
   ]
  },
  {
   "cell_type": "code",
   "execution_count": 28,
   "id": "e779ec12",
   "metadata": {},
   "outputs": [
    {
     "data": {
      "text/plain": [
       "[(4,\n",
       "  'Amitabh',\n",
       "  'Singh',\n",
       "  500000,\n",
       "  datetime.datetime(2014, 2, 20, 9, 0),\n",
       "  'Admin'),\n",
       " (5, 'Vivek', 'Bhati', 500000, datetime.datetime(2014, 6, 11, 9, 0), 'Admin'),\n",
       " (6,\n",
       "  'Vipul',\n",
       "  'Diwan',\n",
       "  200000,\n",
       "  datetime.datetime(2014, 6, 11, 9, 0),\n",
       "  'Account'),\n",
       " (7,\n",
       "  'Satish',\n",
       "  'Kumar',\n",
       "  75000,\n",
       "  datetime.datetime(2014, 1, 20, 9, 0),\n",
       "  'Account'),\n",
       " (8,\n",
       "  'Geetika',\n",
       "  'Chauhan',\n",
       "  90000,\n",
       "  datetime.datetime(2014, 4, 11, 9, 0),\n",
       "  'Admin')]"
      ]
     },
     "execution_count": 28,
     "metadata": {},
     "output_type": "execute_result"
    }
   ],
   "source": [
    "cursor.fetchall()"
   ]
  },
  {
   "cell_type": "code",
   "execution_count": null,
   "id": "6d15fd8e",
   "metadata": {},
   "outputs": [],
   "source": []
  }
 ],
 "metadata": {
  "kernelspec": {
   "display_name": "Python 3 (ipykernel)",
   "language": "python",
   "name": "python3"
  },
  "language_info": {
   "codemirror_mode": {
    "name": "ipython",
    "version": 3
   },
   "file_extension": ".py",
   "mimetype": "text/x-python",
   "name": "python",
   "nbconvert_exporter": "python",
   "pygments_lexer": "ipython3",
   "version": "3.9.7"
  }
 },
 "nbformat": 4,
 "nbformat_minor": 5
}
